{
 "metadata": {
  "name": ""
 },
 "nbformat": 3,
 "nbformat_minor": 0,
 "worksheets": [
  {
   "cells": [
    {
     "cell_type": "markdown",
     "metadata": {},
     "source": [
      "# Database Connection\n",
      "\n",
      "SHIP enables you to use a variety of databases. It does this by using SQLAlchemy, an ORM which is independent from databses like PostgreSQL, MySQL, MSSQL, Oracle or Sqlite. SHIP uses a global session which may be hooked up to the database of your choosing."
     ]
    },
    {
     "cell_type": "code",
     "collapsed": false,
     "input": [
      "from ship import config\n",
      "config.connect('sqlite:///examples.db')"
     ],
     "language": "python",
     "metadata": {},
     "outputs": [],
     "prompt_number": 1
    },
    {
     "cell_type": "markdown",
     "metadata": {},
     "source": [
      "Before using a database, it needs to be filled with data. The premiums records for 2012 which are part of SHIP are csv files from the Bundesamt f\u00fcr Gesundheit BAG. The regions come from an excel file hosted on priminfo.ch and the insurers data are from another excel file hosted on said site. We will do a better job of explaining the details of acquiring the data for yourself once the 2013 premiums records are released.\n",
      "\n",
      "Anywho, to fill your database, do the following, after you've connected of course."
     ]
    },
    {
     "cell_type": "code",
     "collapsed": false,
     "input": [
      "from ship import load\n",
      "load.all()"
     ],
     "language": "python",
     "metadata": {},
     "outputs": [
      {
       "output_type": "stream",
       "stream": "stderr",
       "text": [
        "WARNING:ship:invalid line 10225 in /Users/denis/Code/ship/rawdata/2012_ch.csv, skipping\n"
       ]
      },
      {
       "output_type": "stream",
       "stream": "stderr",
       "text": [
        "WARNING:ship:invalid line 13874 in /Users/denis/Code/ship/rawdata/2012_ch.csv, skipping\n"
       ]
      },
      {
       "output_type": "stream",
       "stream": "stderr",
       "text": [
        "WARNING:ship:invalid line 16227 in /Users/denis/Code/ship/rawdata/2012_ch.csv, skipping\n"
       ]
      },
      {
       "output_type": "stream",
       "stream": "stderr",
       "text": [
        "WARNING:ship:invalid line 18280 in /Users/denis/Code/ship/rawdata/2012_ch.csv, skipping\n"
       ]
      },
      {
       "output_type": "stream",
       "stream": "stderr",
       "text": [
        "WARNING:ship:invalid line 23891 in /Users/denis/Code/ship/rawdata/2012_ch.csv, skipping\n"
       ]
      },
      {
       "output_type": "stream",
       "stream": "stderr",
       "text": [
        "WARNING:ship:invalid line 37804 in /Users/denis/Code/ship/rawdata/2012_ch.csv, skipping\n"
       ]
      },
      {
       "output_type": "stream",
       "stream": "stderr",
       "text": [
        "WARNING:ship:invalid line 40973 in /Users/denis/Code/ship/rawdata/2012_ch.csv, skipping\n"
       ]
      },
      {
       "output_type": "stream",
       "stream": "stderr",
       "text": [
        "WARNING:ship:invalid line 45870 in /Users/denis/Code/ship/rawdata/2012_ch.csv, skipping\n"
       ]
      },
      {
       "output_type": "stream",
       "stream": "stderr",
       "text": [
        "WARNING:ship:invalid line 52027 in /Users/denis/Code/ship/rawdata/2012_ch.csv, skipping\n"
       ]
      },
      {
       "output_type": "stream",
       "stream": "stderr",
       "text": [
        "WARNING:ship:invalid line 58228 in /Users/denis/Code/ship/rawdata/2012_ch.csv, skipping\n"
       ]
      },
      {
       "output_type": "stream",
       "stream": "stderr",
       "text": [
        "WARNING:ship:invalid line 65749 in /Users/denis/Code/ship/rawdata/2012_ch.csv, skipping\n"
       ]
      },
      {
       "output_type": "stream",
       "stream": "stderr",
       "text": [
        "WARNING:ship:invalid line 70454 in /Users/denis/Code/ship/rawdata/2012_ch.csv, skipping\n"
       ]
      },
      {
       "output_type": "stream",
       "stream": "stderr",
       "text": [
        "WARNING:ship:invalid line 75195 in /Users/denis/Code/ship/rawdata/2012_ch.csv, skipping\n"
       ]
      },
      {
       "output_type": "stream",
       "stream": "stderr",
       "text": [
        "WARNING:ship:invalid line 81276 in /Users/denis/Code/ship/rawdata/2012_ch.csv, skipping\n"
       ]
      },
      {
       "output_type": "stream",
       "stream": "stderr",
       "text": [
        "WARNING:ship:invalid line 82975 in /Users/denis/Code/ship/rawdata/2012_ch.csv, skipping\n"
       ]
      },
      {
       "output_type": "stream",
       "stream": "stderr",
       "text": [
        "WARNING:ship:invalid line 95072 in /Users/denis/Code/ship/rawdata/2012_ch.csv, skipping\n"
       ]
      },
      {
       "output_type": "stream",
       "stream": "stderr",
       "text": [
        "WARNING:ship:invalid line 101759 in /Users/denis/Code/ship/rawdata/2012_ch.csv, skipping\n"
       ]
      },
      {
       "output_type": "stream",
       "stream": "stderr",
       "text": [
        "WARNING:ship:invalid line 112064 in /Users/denis/Code/ship/rawdata/2012_ch.csv, skipping\n"
       ]
      },
      {
       "output_type": "stream",
       "stream": "stderr",
       "text": [
        "WARNING:ship:invalid line 124321 in /Users/denis/Code/ship/rawdata/2012_ch.csv, skipping\n"
       ]
      },
      {
       "output_type": "stream",
       "stream": "stderr",
       "text": [
        "WARNING:ship:invalid line 135438 in /Users/denis/Code/ship/rawdata/2012_ch.csv, skipping\n"
       ]
      },
      {
       "output_type": "stream",
       "stream": "stderr",
       "text": [
        "WARNING:ship:invalid line 136951 in /Users/denis/Code/ship/rawdata/2012_ch.csv, skipping\n"
       ]
      },
      {
       "output_type": "stream",
       "stream": "stderr",
       "text": [
        "WARNING:ship:invalid line 140696 in /Users/denis/Code/ship/rawdata/2012_ch.csv, skipping\n"
       ]
      },
      {
       "output_type": "stream",
       "stream": "stderr",
       "text": [
        "WARNING:ship:invalid line 149273 in /Users/denis/Code/ship/rawdata/2012_ch.csv, skipping\n"
       ]
      },
      {
       "output_type": "stream",
       "stream": "stderr",
       "text": [
        "WARNING:ship:invalid line 150946 in /Users/denis/Code/ship/rawdata/2012_ch.csv, skipping\n"
       ]
      },
      {
       "output_type": "stream",
       "stream": "stderr",
       "text": [
        "WARNING:ship:invalid line 163043 in /Users/denis/Code/ship/rawdata/2012_ch.csv, skipping\n"
       ]
      },
      {
       "output_type": "stream",
       "stream": "stderr",
       "text": [
        "WARNING:ship:invalid line 169542 in /Users/denis/Code/ship/rawdata/2012_ch.csv, skipping\n"
       ]
      },
      {
       "output_type": "stream",
       "stream": "stderr",
       "text": [
        "WARNING:ship:invalid line 175813 in /Users/denis/Code/ship/rawdata/2012_ch.csv, skipping\n"
       ]
      },
      {
       "output_type": "stream",
       "stream": "stderr",
       "text": [
        "WARNING:ship:invalid line 183536 in /Users/denis/Code/ship/rawdata/2012_ch.csv, skipping\n"
       ]
      },
      {
       "output_type": "stream",
       "stream": "stderr",
       "text": [
        "WARNING:ship:invalid line 195887 in /Users/denis/Code/ship/rawdata/2012_ch.csv, skipping\n"
       ]
      },
      {
       "output_type": "stream",
       "stream": "stderr",
       "text": [
        "WARNING:ship:invalid line 199728 in /Users/denis/Code/ship/rawdata/2012_ch.csv, skipping\n"
       ]
      },
      {
       "output_type": "stream",
       "stream": "stderr",
       "text": [
        "WARNING:ship:invalid line 210033 in /Users/denis/Code/ship/rawdata/2012_ch.csv, skipping\n"
       ]
      },
      {
       "output_type": "stream",
       "stream": "stderr",
       "text": [
        "WARNING:ship:invalid line 213870 in /Users/denis/Code/ship/rawdata/2012_ch.csv, skipping\n"
       ]
      },
      {
       "output_type": "stream",
       "stream": "stderr",
       "text": [
        "WARNING:ship:invalid line 221375 in /Users/denis/Code/ship/rawdata/2012_ch.csv, skipping\n"
       ]
      },
      {
       "output_type": "stream",
       "stream": "stderr",
       "text": [
        "WARNING:ship:invalid line 231680 in /Users/denis/Code/ship/rawdata/2012_ch.csv, skipping\n"
       ]
      },
      {
       "output_type": "stream",
       "stream": "stderr",
       "text": [
        "WARNING:ship:invalid line 242929 in /Users/denis/Code/ship/rawdata/2012_ch.csv, skipping\n"
       ]
      },
      {
       "output_type": "stream",
       "stream": "stderr",
       "text": [
        "WARNING:ship:invalid line 246278 in /Users/denis/Code/ship/rawdata/2012_ch.csv, skipping\n"
       ]
      },
      {
       "output_type": "stream",
       "stream": "stderr",
       "text": [
        "WARNING:ship:invalid line 257527 in /Users/denis/Code/ship/rawdata/2012_ch.csv, skipping\n"
       ]
      },
      {
       "output_type": "stream",
       "stream": "stderr",
       "text": [
        "WARNING:ship:invalid line 258704 in /Users/denis/Code/ship/rawdata/2012_ch.csv, skipping\n"
       ]
      },
      {
       "output_type": "stream",
       "stream": "stderr",
       "text": [
        "WARNING:ship:invalid line 262385 in /Users/denis/Code/ship/rawdata/2012_ch.csv, skipping\n"
       ]
      },
      {
       "output_type": "stream",
       "stream": "stderr",
       "text": [
        "WARNING:ship:invalid line 266418 in /Users/denis/Code/ship/rawdata/2012_ch.csv, skipping\n"
       ]
      },
      {
       "output_type": "stream",
       "stream": "stderr",
       "text": [
        "WARNING:ship:invalid line 270955 in /Users/denis/Code/ship/rawdata/2012_ch.csv, skipping\n"
       ]
      },
      {
       "output_type": "stream",
       "stream": "stderr",
       "text": [
        "WARNING:ship:invalid line 13429 in /Users/denis/Code/ship/rawdata/2013_ch.csv, skipping\n"
       ]
      },
      {
       "output_type": "stream",
       "stream": "stderr",
       "text": [
        "WARNING:ship:invalid line 17078 in /Users/denis/Code/ship/rawdata/2013_ch.csv, skipping\n"
       ]
      },
      {
       "output_type": "stream",
       "stream": "stderr",
       "text": [
        "WARNING:ship:invalid line 19431 in /Users/denis/Code/ship/rawdata/2013_ch.csv, skipping\n"
       ]
      },
      {
       "output_type": "stream",
       "stream": "stderr",
       "text": [
        "WARNING:ship:invalid line 21674 in /Users/denis/Code/ship/rawdata/2013_ch.csv, skipping\n"
       ]
      },
      {
       "output_type": "stream",
       "stream": "stderr",
       "text": [
        "WARNING:ship:invalid line 27285 in /Users/denis/Code/ship/rawdata/2013_ch.csv, skipping\n"
       ]
      },
      {
       "output_type": "stream",
       "stream": "stderr",
       "text": [
        "WARNING:ship:invalid line 42262 in /Users/denis/Code/ship/rawdata/2013_ch.csv, skipping\n"
       ]
      },
      {
       "output_type": "stream",
       "stream": "stderr",
       "text": [
        "WARNING:ship:invalid line 45431 in /Users/denis/Code/ship/rawdata/2013_ch.csv, skipping\n"
       ]
      },
      {
       "output_type": "stream",
       "stream": "stderr",
       "text": [
        "WARNING:ship:invalid line 50260 in /Users/denis/Code/ship/rawdata/2013_ch.csv, skipping\n"
       ]
      },
      {
       "output_type": "stream",
       "stream": "stderr",
       "text": [
        "WARNING:ship:invalid line 56417 in /Users/denis/Code/ship/rawdata/2013_ch.csv, skipping\n"
       ]
      },
      {
       "output_type": "stream",
       "stream": "stderr",
       "text": [
        "WARNING:ship:invalid line 62506 in /Users/denis/Code/ship/rawdata/2013_ch.csv, skipping\n"
       ]
      },
      {
       "output_type": "stream",
       "stream": "stderr",
       "text": [
        "WARNING:ship:invalid line 70027 in /Users/denis/Code/ship/rawdata/2013_ch.csv, skipping\n"
       ]
      },
      {
       "output_type": "stream",
       "stream": "stderr",
       "text": [
        "WARNING:ship:invalid line 74732 in /Users/denis/Code/ship/rawdata/2013_ch.csv, skipping\n"
       ]
      },
      {
       "output_type": "stream",
       "stream": "stderr",
       "text": [
        "WARNING:ship:invalid line 79437 in /Users/denis/Code/ship/rawdata/2013_ch.csv, skipping\n"
       ]
      },
      {
       "output_type": "stream",
       "stream": "stderr",
       "text": [
        "WARNING:ship:invalid line 85594 in /Users/denis/Code/ship/rawdata/2013_ch.csv, skipping\n"
       ]
      },
      {
       "output_type": "stream",
       "stream": "stderr",
       "text": [
        "WARNING:ship:invalid line 87293 in /Users/denis/Code/ship/rawdata/2013_ch.csv, skipping\n"
       ]
      },
      {
       "output_type": "stream",
       "stream": "stderr",
       "text": [
        "WARNING:ship:invalid line 99390 in /Users/denis/Code/ship/rawdata/2013_ch.csv, skipping\n"
       ]
      },
      {
       "output_type": "stream",
       "stream": "stderr",
       "text": [
        "WARNING:ship:invalid line 106121 in /Users/denis/Code/ship/rawdata/2013_ch.csv, skipping\n"
       ]
      },
      {
       "output_type": "stream",
       "stream": "stderr",
       "text": [
        "WARNING:ship:invalid line 116426 in /Users/denis/Code/ship/rawdata/2013_ch.csv, skipping\n"
       ]
      },
      {
       "output_type": "stream",
       "stream": "stderr",
       "text": [
        "WARNING:ship:invalid line 127627 in /Users/denis/Code/ship/rawdata/2013_ch.csv, skipping\n"
       ]
      },
      {
       "output_type": "stream",
       "stream": "stderr",
       "text": [
        "WARNING:ship:invalid line 138744 in /Users/denis/Code/ship/rawdata/2013_ch.csv, skipping\n"
       ]
      },
      {
       "output_type": "stream",
       "stream": "stderr",
       "text": [
        "WARNING:ship:invalid line 140257 in /Users/denis/Code/ship/rawdata/2013_ch.csv, skipping\n"
       ]
      },
      {
       "output_type": "stream",
       "stream": "stderr",
       "text": [
        "WARNING:ship:invalid line 144002 in /Users/denis/Code/ship/rawdata/2013_ch.csv, skipping\n"
       ]
      },
      {
       "output_type": "stream",
       "stream": "stderr",
       "text": [
        "WARNING:ship:invalid line 152463 in /Users/denis/Code/ship/rawdata/2013_ch.csv, skipping\n"
       ]
      },
      {
       "output_type": "stream",
       "stream": "stderr",
       "text": [
        "WARNING:ship:invalid line 154136 in /Users/denis/Code/ship/rawdata/2013_ch.csv, skipping\n"
       ]
      },
      {
       "output_type": "stream",
       "stream": "stderr",
       "text": [
        "WARNING:ship:invalid line 165177 in /Users/denis/Code/ship/rawdata/2013_ch.csv, skipping\n"
       ]
      },
      {
       "output_type": "stream",
       "stream": "stderr",
       "text": [
        "WARNING:ship:invalid line 171676 in /Users/denis/Code/ship/rawdata/2013_ch.csv, skipping\n"
       ]
      },
      {
       "output_type": "stream",
       "stream": "stderr",
       "text": [
        "WARNING:ship:invalid line 177947 in /Users/denis/Code/ship/rawdata/2013_ch.csv, skipping\n"
       ]
      },
      {
       "output_type": "stream",
       "stream": "stderr",
       "text": [
        "WARNING:ship:invalid line 185670 in /Users/denis/Code/ship/rawdata/2013_ch.csv, skipping\n"
       ]
      },
      {
       "output_type": "stream",
       "stream": "stderr",
       "text": [
        "WARNING:ship:invalid line 202987 in /Users/denis/Code/ship/rawdata/2013_ch.csv, skipping\n"
       ]
      },
      {
       "output_type": "stream",
       "stream": "stderr",
       "text": [
        "WARNING:ship:invalid line 206828 in /Users/denis/Code/ship/rawdata/2013_ch.csv, skipping\n"
       ]
      },
      {
       "output_type": "stream",
       "stream": "stderr",
       "text": [
        "WARNING:ship:invalid line 217133 in /Users/denis/Code/ship/rawdata/2013_ch.csv, skipping\n"
       ]
      },
      {
       "output_type": "stream",
       "stream": "stderr",
       "text": [
        "WARNING:ship:invalid line 224638 in /Users/denis/Code/ship/rawdata/2013_ch.csv, skipping\n"
       ]
      },
      {
       "output_type": "stream",
       "stream": "stderr",
       "text": [
        "WARNING:ship:invalid line 234943 in /Users/denis/Code/ship/rawdata/2013_ch.csv, skipping\n"
       ]
      },
      {
       "output_type": "stream",
       "stream": "stderr",
       "text": [
        "WARNING:ship:invalid line 250804 in /Users/denis/Code/ship/rawdata/2013_ch.csv, skipping\n"
       ]
      },
      {
       "output_type": "stream",
       "stream": "stderr",
       "text": [
        "WARNING:ship:invalid line 254297 in /Users/denis/Code/ship/rawdata/2013_ch.csv, skipping\n"
       ]
      },
      {
       "output_type": "stream",
       "stream": "stderr",
       "text": [
        "WARNING:ship:invalid line 274058 in /Users/denis/Code/ship/rawdata/2013_ch.csv, skipping\n"
       ]
      },
      {
       "output_type": "stream",
       "stream": "stderr",
       "text": [
        "WARNING:ship:invalid line 275235 in /Users/denis/Code/ship/rawdata/2013_ch.csv, skipping\n"
       ]
      },
      {
       "output_type": "stream",
       "stream": "stderr",
       "text": [
        "WARNING:ship:invalid line 278916 in /Users/denis/Code/ship/rawdata/2013_ch.csv, skipping\n"
       ]
      },
      {
       "output_type": "stream",
       "stream": "stderr",
       "text": [
        "WARNING:ship:invalid line 282949 in /Users/denis/Code/ship/rawdata/2013_ch.csv, skipping\n"
       ]
      },
      {
       "output_type": "stream",
       "stream": "stderr",
       "text": [
        "WARNING:ship:invalid line 287486 in /Users/denis/Code/ship/rawdata/2013_ch.csv, skipping\n"
       ]
      },
      {
       "output_type": "stream",
       "stream": "stderr",
       "text": [
        "WARNING:ship:invalid line 13213 in /Users/denis/Code/ship/rawdata/2014_ch.csv, skipping\n"
       ]
      },
      {
       "output_type": "stream",
       "stream": "stderr",
       "text": [
        "WARNING:ship:invalid line 16862 in /Users/denis/Code/ship/rawdata/2014_ch.csv, skipping\n"
       ]
      },
      {
       "output_type": "stream",
       "stream": "stderr",
       "text": [
        "WARNING:ship:invalid line 19215 in /Users/denis/Code/ship/rawdata/2014_ch.csv, skipping\n"
       ]
      },
      {
       "output_type": "stream",
       "stream": "stderr",
       "text": [
        "WARNING:ship:invalid line 21458 in /Users/denis/Code/ship/rawdata/2014_ch.csv, skipping\n"
       ]
      },
      {
       "output_type": "stream",
       "stream": "stderr",
       "text": [
        "WARNING:ship:invalid line 27069 in /Users/denis/Code/ship/rawdata/2014_ch.csv, skipping\n"
       ]
      },
      {
       "output_type": "stream",
       "stream": "stderr",
       "text": [
        "WARNING:ship:invalid line 42306 in /Users/denis/Code/ship/rawdata/2014_ch.csv, skipping\n"
       ]
      },
      {
       "output_type": "stream",
       "stream": "stderr",
       "text": [
        "WARNING:ship:invalid line 45475 in /Users/denis/Code/ship/rawdata/2014_ch.csv, skipping\n"
       ]
      },
      {
       "output_type": "stream",
       "stream": "stderr",
       "text": [
        "WARNING:ship:invalid line 50304 in /Users/denis/Code/ship/rawdata/2014_ch.csv, skipping\n"
       ]
      },
      {
       "output_type": "stream",
       "stream": "stderr",
       "text": [
        "WARNING:ship:invalid line 56461 in /Users/denis/Code/ship/rawdata/2014_ch.csv, skipping\n"
       ]
      },
      {
       "output_type": "stream",
       "stream": "stderr",
       "text": [
        "WARNING:ship:invalid line 62578 in /Users/denis/Code/ship/rawdata/2014_ch.csv, skipping\n"
       ]
      },
      {
       "output_type": "stream",
       "stream": "stderr",
       "text": [
        "WARNING:ship:invalid line 70099 in /Users/denis/Code/ship/rawdata/2014_ch.csv, skipping\n"
       ]
      },
      {
       "output_type": "stream",
       "stream": "stderr",
       "text": [
        "WARNING:ship:invalid line 75980 in /Users/denis/Code/ship/rawdata/2014_ch.csv, skipping\n"
       ]
      },
      {
       "output_type": "stream",
       "stream": "stderr",
       "text": [
        "WARNING:ship:invalid line 80877 in /Users/denis/Code/ship/rawdata/2014_ch.csv, skipping\n"
       ]
      },
      {
       "output_type": "stream",
       "stream": "stderr",
       "text": [
        "WARNING:ship:invalid line 87034 in /Users/denis/Code/ship/rawdata/2014_ch.csv, skipping\n"
       ]
      },
      {
       "output_type": "stream",
       "stream": "stderr",
       "text": [
        "WARNING:ship:invalid line 88733 in /Users/denis/Code/ship/rawdata/2014_ch.csv, skipping\n"
       ]
      },
      {
       "output_type": "stream",
       "stream": "stderr",
       "text": [
        "WARNING:ship:invalid line 102846 in /Users/denis/Code/ship/rawdata/2014_ch.csv, skipping\n"
       ]
      },
      {
       "output_type": "stream",
       "stream": "stderr",
       "text": [
        "WARNING:ship:invalid line 109577 in /Users/denis/Code/ship/rawdata/2014_ch.csv, skipping\n"
       ]
      },
      {
       "output_type": "stream",
       "stream": "stderr",
       "text": [
        "WARNING:ship:invalid line 119402 in /Users/denis/Code/ship/rawdata/2014_ch.csv, skipping\n"
       ]
      },
      {
       "output_type": "stream",
       "stream": "stderr",
       "text": [
        "WARNING:ship:invalid line 130603 in /Users/denis/Code/ship/rawdata/2014_ch.csv, skipping\n"
       ]
      },
      {
       "output_type": "stream",
       "stream": "stderr",
       "text": [
        "WARNING:ship:invalid line 142012 in /Users/denis/Code/ship/rawdata/2014_ch.csv, skipping\n"
       ]
      },
      {
       "output_type": "stream",
       "stream": "stderr",
       "text": [
        "WARNING:ship:invalid line 145037 in /Users/denis/Code/ship/rawdata/2014_ch.csv, skipping\n"
       ]
      },
      {
       "output_type": "stream",
       "stream": "stderr",
       "text": [
        "WARNING:ship:invalid line 148782 in /Users/denis/Code/ship/rawdata/2014_ch.csv, skipping\n"
       ]
      },
      {
       "output_type": "stream",
       "stream": "stderr",
       "text": [
        "WARNING:ship:invalid line 157243 in /Users/denis/Code/ship/rawdata/2014_ch.csv, skipping\n"
       ]
      },
      {
       "output_type": "stream",
       "stream": "stderr",
       "text": [
        "WARNING:ship:invalid line 158916 in /Users/denis/Code/ship/rawdata/2014_ch.csv, skipping\n"
       ]
      },
      {
       "output_type": "stream",
       "stream": "stderr",
       "text": [
        "WARNING:ship:invalid line 169957 in /Users/denis/Code/ship/rawdata/2014_ch.csv, skipping\n"
       ]
      },
      {
       "output_type": "stream",
       "stream": "stderr",
       "text": [
        "WARNING:ship:invalid line 176456 in /Users/denis/Code/ship/rawdata/2014_ch.csv, skipping\n"
       ]
      },
      {
       "output_type": "stream",
       "stream": "stderr",
       "text": [
        "WARNING:ship:invalid line 182727 in /Users/denis/Code/ship/rawdata/2014_ch.csv, skipping\n"
       ]
      },
      {
       "output_type": "stream",
       "stream": "stderr",
       "text": [
        "WARNING:ship:invalid line 190450 in /Users/denis/Code/ship/rawdata/2014_ch.csv, skipping\n"
       ]
      },
      {
       "output_type": "stream",
       "stream": "stderr",
       "text": [
        "WARNING:ship:invalid line 207507 in /Users/denis/Code/ship/rawdata/2014_ch.csv, skipping\n"
       ]
      },
      {
       "output_type": "stream",
       "stream": "stderr",
       "text": [
        "WARNING:ship:invalid line 211348 in /Users/denis/Code/ship/rawdata/2014_ch.csv, skipping\n"
       ]
      },
      {
       "output_type": "stream",
       "stream": "stderr",
       "text": [
        "WARNING:ship:invalid line 219945 in /Users/denis/Code/ship/rawdata/2014_ch.csv, skipping\n"
       ]
      },
      {
       "output_type": "stream",
       "stream": "stderr",
       "text": [
        "WARNING:ship:invalid line 227626 in /Users/denis/Code/ship/rawdata/2014_ch.csv, skipping\n"
       ]
      },
      {
       "output_type": "stream",
       "stream": "stderr",
       "text": [
        "WARNING:ship:invalid line 237451 in /Users/denis/Code/ship/rawdata/2014_ch.csv, skipping\n"
       ]
      },
      {
       "output_type": "stream",
       "stream": "stderr",
       "text": [
        "WARNING:ship:invalid line 253000 in /Users/denis/Code/ship/rawdata/2014_ch.csv, skipping\n"
       ]
      },
      {
       "output_type": "stream",
       "stream": "stderr",
       "text": [
        "WARNING:ship:invalid line 256493 in /Users/denis/Code/ship/rawdata/2014_ch.csv, skipping\n"
       ]
      },
      {
       "output_type": "stream",
       "stream": "stderr",
       "text": [
        "WARNING:ship:invalid line 277970 in /Users/denis/Code/ship/rawdata/2014_ch.csv, skipping\n"
       ]
      },
      {
       "output_type": "stream",
       "stream": "stderr",
       "text": [
        "WARNING:ship:invalid line 279147 in /Users/denis/Code/ship/rawdata/2014_ch.csv, skipping\n"
       ]
      },
      {
       "output_type": "stream",
       "stream": "stderr",
       "text": [
        "WARNING:ship:invalid line 282892 in /Users/denis/Code/ship/rawdata/2014_ch.csv, skipping\n"
       ]
      },
      {
       "output_type": "stream",
       "stream": "stderr",
       "text": [
        "WARNING:ship:invalid line 286925 in /Users/denis/Code/ship/rawdata/2014_ch.csv, skipping\n"
       ]
      },
      {
       "output_type": "stream",
       "stream": "stderr",
       "text": [
        "WARNING:ship:invalid line 291462 in /Users/denis/Code/ship/rawdata/2014_ch.csv, skipping\n"
       ]
      }
     ],
     "prompt_number": 2
    },
    {
     "cell_type": "markdown",
     "metadata": {},
     "source": [
      "This will load all available premium records of all years into the database. Run multiple times, only new files are imported."
     ]
    },
    {
     "cell_type": "markdown",
     "metadata": {},
     "source": [
      "# Querying\n",
      "\n",
      "There are a number of queries and methods implemented to allow some basic data retrieval. We thought of doing an API for this, but without anyone using it we would just be doing that in an ivory tower kind of setting. So for now these methods are just something to play around with.\n",
      "\n",
      "For example, take the following helper methods:"
     ]
    },
    {
     "cell_type": "markdown",
     "metadata": {},
     "source": [
      "**Years available in the database**"
     ]
    },
    {
     "cell_type": "code",
     "collapsed": false,
     "input": [
      "from ship import db\n",
      "db.years()"
     ],
     "language": "python",
     "metadata": {},
     "outputs": [
      {
       "metadata": {},
       "output_type": "pyout",
       "prompt_number": 3,
       "text": [
        "[2014, 2013, 2012]"
       ]
      }
     ],
     "prompt_number": 3
    },
    {
     "cell_type": "markdown",
     "metadata": {},
     "source": [
      "**Possible insurance types**"
     ]
    },
    {
     "cell_type": "code",
     "collapsed": false,
     "input": [
      "', '.join(db.insurance_types())"
     ],
     "language": "python",
     "metadata": {},
     "outputs": [
      {
       "metadata": {},
       "output_type": "pyout",
       "prompt_number": 4,
       "text": [
        "u'Base, DIV, HAM_RDS, HMO'"
       ]
      }
     ],
     "prompt_number": 4
    },
    {
     "cell_type": "markdown",
     "metadata": {},
     "source": [
      "**Possible cantons**"
     ]
    },
    {
     "cell_type": "code",
     "collapsed": false,
     "input": [
      "', '.join(db.cantons())"
     ],
     "language": "python",
     "metadata": {},
     "outputs": [
      {
       "metadata": {},
       "output_type": "pyout",
       "prompt_number": 5,
       "text": [
        "u'AG, AI, AR, BE, BL, BS, FR, GE, GL, GR, JU, LU, NE, NW, OW, SG, SH, SO, SZ, TG, TI, UR, VD, VS, ZG, ZH'"
       ]
      }
     ],
     "prompt_number": 5
    },
    {
     "cell_type": "markdown",
     "metadata": {},
     "source": [
      "**Possible franchises by age**"
     ]
    },
    {
     "cell_type": "code",
     "collapsed": false,
     "input": [
      "from pandas import DataFrame, Series\n",
      "DataFrame({\n",
      "    \"Franchises\": [\n",
      "        ' / '.join(map(str, db.franchises(0))),\n",
      "        ' / '.join(map(str, db.franchises(19)))\n",
      "    ]}, index=[\"Under 18\", \"Over 18\"]\n",
      ")"
     ],
     "language": "python",
     "metadata": {},
     "outputs": [
      {
       "html": [
        "<div style=\"max-height:1000px;max-width:1500px;overflow:auto;\">\n",
        "<table border=\"1\" class=\"dataframe\">\n",
        "  <thead>\n",
        "    <tr style=\"text-align: right;\">\n",
        "      <th></th>\n",
        "      <th>Franchises</th>\n",
        "    </tr>\n",
        "  </thead>\n",
        "  <tbody>\n",
        "    <tr>\n",
        "      <th>Under 18</th>\n",
        "      <td> 0 / 100 / 200 / 300 / 400 / 500 / 600</td>\n",
        "    </tr>\n",
        "    <tr>\n",
        "      <th>Over 18</th>\n",
        "      <td> 300 / 500 / 1000 / 1500 / 2000 / 2500</td>\n",
        "    </tr>\n",
        "  </tbody>\n",
        "</table>\n",
        "<p>2 rows \u00d7 1 columns</p>\n",
        "</div>"
       ],
       "metadata": {},
       "output_type": "pyout",
       "prompt_number": 6,
       "text": [
        "                                     Franchises\n",
        "Under 18  0 / 100 / 200 / 300 / 400 / 500 / 600\n",
        "Over 18   300 / 500 / 1000 / 1500 / 2000 / 2500\n",
        "\n",
        "[2 rows x 1 columns]"
       ]
      }
     ],
     "prompt_number": 6
    },
    {
     "cell_type": "markdown",
     "metadata": {},
     "source": [
      "There's more!"
     ]
    },
    {
     "cell_type": "markdown",
     "metadata": {},
     "source": [
      "## Execute SQL\n",
      "\n",
      "You may also use SQL directly if you feel uncomfortable with SQLAlchemy.\n",
      "\n",
      "Let's see how many records per canton are in the database so far using an SQL query."
     ]
    },
    {
     "cell_type": "code",
     "collapsed": false,
     "input": [
      "from ship import db\n",
      "from pandas import DataFrame, Series\n",
      "\n",
      "query = \"\"\"\n",
      "    SELECT   canton, COUNT(*) as records\n",
      "    FROM     premiums\n",
      "    WHERE    \"group\" == \"CH\"\n",
      "    GROUP BY canton\n",
      "    ORDER BY records DESC\n",
      "\"\"\"\n",
      "\n",
      "count_by_canton = dict()\n",
      "for canton, count in db.execute(query):\n",
      "    count_by_canton[canton] = count\n",
      "\n",
      "Series(count_by_canton).plot(kind=\"bar\")"
     ],
     "language": "python",
     "metadata": {},
     "outputs": [
      {
       "metadata": {},
       "output_type": "pyout",
       "prompt_number": 7,
       "text": [
        "<matplotlib.axes.AxesSubplot at 0x103ebac10>"
       ]
      },
      {
       "metadata": {},
       "output_type": "display_data",
       "png": "[encoded data removed]",
       "text": [
        "<matplotlib.figure.Figure at 0x103ec1bd0>"
       ]
      }
     ],
     "prompt_number": 7
    },
    {
     "cell_type": "markdown",
     "metadata": {},
     "source": [
      "# Query Objects\n",
      "\n",
      "There are also two objects that help query the database without knowing it too well. The db.Premiums and db.Towns classes. These classes wrap around an SQLAlchemy Query instance and provide some predefined ways of filtering the query. The query may be accessed at any time for customization.\n",
      "\n",
      "The following example uses the Premiums class to calculate the average premiums for each canton."
     ]
    },
    {
     "cell_type": "code",
     "collapsed": false,
     "input": [
      "from ship.models import Premium\n",
      "from ship.config import session\n",
      "from sqlalchemy import func\n",
      "\n",
      "averages = dict()\n",
      "\n",
      "for canton in db.cantons():\n",
      "    premiums = db.Premiums()\n",
      "    \n",
      "    # for the current year\n",
      "    premiums = premiums.for_year(db.latest_year())\n",
      "    \n",
      "    # limit to the given canton\n",
      "    premiums = premiums.for_canton(canton)\n",
      "    \n",
      "    # for adults only\n",
      "    premiums = premiums.for_adults()\n",
      "    \n",
      "    # aggregate the query\n",
      "    query = premiums.q.with_entities(func.avg(Premium.premium))\n",
      "    average = query.all()\n",
      "    \n",
      "    # convert to Francs (the values are stored in Rappen to avoid floating point types)\n",
      "    averages[canton] = db.unpack(average)[0] / 100.0\n",
      "    \n",
      "Series(averages).order(ascending=False).plot(kind=\"bar\")"
     ],
     "language": "python",
     "metadata": {},
     "outputs": [
      {
       "metadata": {},
       "output_type": "pyout",
       "prompt_number": 8,
       "text": [
        "<matplotlib.axes.AxesSubplot at 0x103f0de90>"
       ]
      },
      {
       "metadata": {},
       "output_type": "display_data",
       "png": "[encoded data removed]",
       "text": [
        "<matplotlib.figure.Figure at 0x103f2dd90>"
       ]
      }
     ],
     "prompt_number": 8
    }
   ],
   "metadata": {}
  }
 ]
}