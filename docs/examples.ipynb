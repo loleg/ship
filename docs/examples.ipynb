{
 "metadata": {
  "name": "examples"
 },
 "nbformat": 3,
 "nbformat_minor": 0,
 "worksheets": [
  {
   "cells": [
    {
     "cell_type": "markdown",
     "metadata": {},
     "source": [
      "# Database Connection\n",
      "\n",
      "SHIP enables you to use a variety of databases. It does this by using SQLAlchemy, an ORM which is independent from databses like PostgreSQL, MySQL, MSSQL, Oracle or Sqlite. SHIP uses a global session which may be hooked up to the database of your choosing."
     ]
    },
    {
     "cell_type": "code",
     "collapsed": false,
     "input": [
      "from ship import config\n",
      "config.connect('sqlite:///examples.db')"
     ],
     "language": "python",
     "metadata": {},
     "outputs": [],
     "prompt_number": 17
    },
    {
     "cell_type": "markdown",
     "metadata": {},
     "source": [
      "Before using a database, it needs to be filled with data. The premiums records for 2012 which are part of SHIP are csv files from the Bundesamt f\u00fcr Gesundheit BAG. The regions come from an excel file hosted on priminfo.ch and the insurers data are from another excel file hosted on said site. We will do a better job of explaining the details of acquiring the data for yourself once the 2013 premiums records are released.\n",
      "\n",
      "Anywho, to fill your database, do the following, after you've connected of course."
     ]
    },
    {
     "cell_type": "code",
     "collapsed": false,
     "input": [
      "from ship import load\n",
      "load.all()"
     ],
     "language": "python",
     "metadata": {},
     "outputs": [],
     "prompt_number": 18
    },
    {
     "cell_type": "markdown",
     "metadata": {},
     "source": [
      "This will load all available premium records of all years into the database. Run multiple times, only new files are imported."
     ]
    },
    {
     "cell_type": "markdown",
     "metadata": {},
     "source": [
      "# Querying\n",
      "\n",
      "There are a number of queries and methods implemented to allow some basic data retrieval. We thought of doing an API for this, but without anyone using it we would just be doing that in an ivory tower kind of setting. So for now these methods are just something to play around with.\n",
      "\n",
      "For example, take the following helper methods:"
     ]
    },
    {
     "cell_type": "markdown",
     "metadata": {},
     "source": [
      "**Years available in the database**"
     ]
    },
    {
     "cell_type": "code",
     "collapsed": false,
     "input": [
      "from ship import db\n",
      "db.years()"
     ],
     "language": "python",
     "metadata": {},
     "outputs": [
      {
       "output_type": "pyout",
       "prompt_number": 19,
       "text": [
        "[2012]"
       ]
      }
     ],
     "prompt_number": 19
    },
    {
     "cell_type": "markdown",
     "metadata": {},
     "source": [
      "**Possible insurance types**"
     ]
    },
    {
     "cell_type": "code",
     "collapsed": false,
     "input": [
      "', '.join(db.insurance_types())"
     ],
     "language": "python",
     "metadata": {},
     "outputs": [
      {
       "output_type": "pyout",
       "prompt_number": 20,
       "text": [
        "u'Base, DIV, HAM_RDS, HMO'"
       ]
      }
     ],
     "prompt_number": 20
    },
    {
     "cell_type": "markdown",
     "metadata": {},
     "source": [
      "**Possible cantons**"
     ]
    },
    {
     "cell_type": "code",
     "collapsed": false,
     "input": [
      "', '.join(db.cantons())"
     ],
     "language": "python",
     "metadata": {},
     "outputs": [
      {
       "output_type": "pyout",
       "prompt_number": 21,
       "text": [
        "u'AG, AI, AR, BE, BL, BS, FR, GE, GL, GR, JU, LU, NE, NW, OW, SG, SH, SO, SZ, TG, TI, UR, VD, VS, ZG, ZH'"
       ]
      }
     ],
     "prompt_number": 21
    },
    {
     "cell_type": "markdown",
     "metadata": {},
     "source": [
      "**Possible franchises by age**"
     ]
    },
    {
     "cell_type": "code",
     "collapsed": false,
     "input": [
      "from pandas import DataFrame, Series\n",
      "DataFrame({\n",
      "    \"Franchises\": [\n",
      "        ' / '.join(map(str, db.franchises(0))),\n",
      "        ' / '.join(map(str, db.franchises(19)))\n",
      "    ]}, index=[\"Under 18\", \"Over 18\"]\n",
      ")"
     ],
     "language": "python",
     "metadata": {},
     "outputs": [
      {
       "html": [
        "<div style=\"max-height:1000px;max-width:1500px;overflow:auto;\">\n",
        "<table border=\"1\">\n",
        "  <thead>\n",
        "    <tr>\n",
        "      <th></th>\n",
        "      <th>Franchises</th>\n",
        "    </tr>\n",
        "  </thead>\n",
        "  <tbody>\n",
        "    <tr>\n",
        "      <td><strong>Under 18</strong></td>\n",
        "      <td> 0 / 100 / 200 / 300 / 400 / 500 / 600</td>\n",
        "    </tr>\n",
        "    <tr>\n",
        "      <td><strong>Over 18</strong></td>\n",
        "      <td> 300 / 500 / 1000 / 1500 / 2000 / 2500</td>\n",
        "    </tr>\n",
        "  </tbody>\n",
        "</table>\n",
        "</div>"
       ],
       "output_type": "pyout",
       "prompt_number": 22,
       "text": [
        "                                     Franchises\n",
        "Under 18  0 / 100 / 200 / 300 / 400 / 500 / 600\n",
        "Over 18   300 / 500 / 1000 / 1500 / 2000 / 2500"
       ]
      }
     ],
     "prompt_number": 22
    },
    {
     "cell_type": "markdown",
     "metadata": {},
     "source": [
      "There's more!"
     ]
    },
    {
     "cell_type": "markdown",
     "metadata": {},
     "source": [
      "## Execute SQL\n",
      "\n",
      "You may also use SQL directly if you feel uncomfortable with SQLAlchemy.\n",
      "\n",
      "Let's see how many records per canton are in the database so far using an SQL query."
     ]
    },
    {
     "cell_type": "code",
     "collapsed": false,
     "input": [
      "from ship import db\n",
      "from pandas import DataFrame, Series\n",
      "\n",
      "query = \"\"\"\n",
      "    SELECT   canton, COUNT(*) as records\n",
      "    FROM     premiums\n",
      "    WHERE    \"group\" == \"CH\"\n",
      "    GROUP BY canton\n",
      "    ORDER BY records DESC\n",
      "\"\"\"\n",
      "\n",
      "count_by_canton = dict()\n",
      "for canton, count in db.execute(query):\n",
      "    count_by_canton[canton] = count\n",
      "\n",
      "Series(count_by_canton).plot(kind=\"bar\")"
     ],
     "language": "python",
     "metadata": {},
     "outputs": [
      {
       "output_type": "pyout",
       "prompt_number": 23,
       "text": [
        "<matplotlib.axes.AxesSubplot at 0x1067e8bd0>"
       ]
      },
      {
       "output_type": "display_data",
       "png": "[encoded data removed]"
      }
     ],
     "prompt_number": 23
    },
    {
     "cell_type": "markdown",
     "metadata": {},
     "source": [
      "# Query Objects\n",
      "\n",
      "There are also two objects that help query the database without knowing it too well. The db.Premiums and db.Towns classes. These classes wrap around an SQLAlchemy Query instance and provide some predefined ways of filtering the query. The query may be accessed at any time for customization.\n",
      "\n",
      "The following example uses the Premiums class to calculate the average premiums for each canton."
     ]
    },
    {
     "cell_type": "code",
     "collapsed": false,
     "input": [
      "from ship.models import Premium\n",
      "from ship.config import session\n",
      "from sqlalchemy import func\n",
      "\n",
      "averages = dict()\n",
      "\n",
      "for canton in db.cantons():\n",
      "    premiums = db.Premiums()\n",
      "    \n",
      "    # for the current year\n",
      "    premiums = premiums.for_year(2012)\n",
      "    \n",
      "    # limit to the given canton\n",
      "    premiums = premiums.for_canton(canton)\n",
      "    \n",
      "    # for adults only\n",
      "    premiums = premiums.for_adults()\n",
      "    \n",
      "    # aggregate the query\n",
      "    query = premiums.q.with_entities(func.avg(Premium.premium))\n",
      "    average = query.all()\n",
      "    \n",
      "    # convert to Francs (the values are stored in Rappen to avoid floating point types)\n",
      "    averages[canton] = db.unpack(average)[0] / 100.0\n",
      "    \n",
      "Series(averages).order(ascending=False).plot(kind=\"bar\")"
     ],
     "language": "python",
     "metadata": {},
     "outputs": [
      {
       "output_type": "pyout",
       "prompt_number": 24,
       "text": [
        "<matplotlib.axes.AxesSubplot at 0x107abb250>"
       ]
      },
      {
       "output_type": "display_data",
       "png": "[encoded data removed]"
      }
     ],
     "prompt_number": 24
    }
   ],
   "metadata": {}
  }
 ]
}